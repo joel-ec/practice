{
  "nbformat": 4,
  "nbformat_minor": 0,
  "metadata": {
    "colab": {
      "provenance": [],
      "authorship_tag": "ABX9TyO7cYA9V1uXTXGd1eXVc8Iq",
      "include_colab_link": true
    },
    "kernelspec": {
      "name": "python3",
      "display_name": "Python 3"
    },
    "language_info": {
      "name": "python"
    }
  },
  "cells": [
    {
      "cell_type": "markdown",
      "metadata": {
        "id": "view-in-github",
        "colab_type": "text"
      },
      "source": [
        "<a href=\"https://colab.research.google.com/github/joel-ec/practice/blob/main/TestUploadAutomationSRC.ipynb\" target=\"_parent\"><img src=\"https://colab.research.google.com/assets/colab-badge.svg\" alt=\"Open In Colab\"/></a>"
      ]
    },
    {
      "cell_type": "code",
      "execution_count": 63,
      "metadata": {
        "id": "30jru-burCK8"
      },
      "outputs": [],
      "source": [
        "import pandas as pd\n",
        "import numpy as np\n"
      ]
    },
    {
      "cell_type": "code",
      "source": [
        "require = pd.read_csv('/Requirement.csv', index_col='id')"
      ],
      "metadata": {
        "id": "T2QE-rA4aSo9"
      },
      "execution_count": 83,
      "outputs": []
    },
    {
      "cell_type": "code",
      "source": [
        "testcases = pd.read_excel('/editedtestcases.xlsx')"
      ],
      "metadata": {
        "id": "hUifUgdYbNmO"
      },
      "execution_count": 69,
      "outputs": []
    },
    {
      "cell_type": "code",
      "source": [
        "require = require.sort_values('id')"
      ],
      "metadata": {
        "id": "2urdlXFvaaIV"
      },
      "execution_count": 67,
      "outputs": []
    },
    {
      "cell_type": "code",
      "source": [
        "# require = require.astype({\"id\": str})\n",
        "#require.info()\n",
        "#require.index\n"
      ],
      "metadata": {
        "id": "I3BVcU_TbvV6"
      },
      "execution_count": 111,
      "outputs": []
    },
    {
      "cell_type": "code",
      "source": [
        "result = []\n",
        "for i,v in enumerate(require.index):\n",
        "  result.append(str(v)+'-'+require['Backlog Req_ID'][i+1])\n",
        "print(result)"
      ],
      "metadata": {
        "colab": {
          "base_uri": "https://localhost:8080/"
        },
        "id": "HHiKN1MldFPV",
        "outputId": "4346f507-980c-4ddb-8cf9-5b4a0e08d823"
      },
      "execution_count": 122,
      "outputs": [
        {
          "output_type": "stream",
          "name": "stdout",
          "text": [
            "['1-BUC_001', '2-BUC_002', '3-BUC_003', '4-BUC_004', '5-BUC_005', '6-BUC_006', '7-BUC_007', '8-BUC_008', '9-BUC_009', '10-BUC_010', '11-BUC_011', '12-BUC_012', '13-BUC_013', '14-BUC_014', '15-BUC_015', '16-BUC_016', '17-BUC_017', '18-BUC_018', '19-BUC_019', '20-BUC_020', '21-BUC_021', '22-BUC_022', '23-BUC_023', '24-BUC_024', '25-BUC_025', '26-BUC_026', '27-BUC_027', '28-BUC_028', '29-BUC_029', '30-BUC_030', '31-BUC_031', '32-BUC_032', '33-BUC_033', '34-BUC_034', '35-BUC_035', '36-BUC_036', '37-BUC_037', '38-BUC_038', '39-BUC_039', '40-BUC_040', '41-BUC_041', '42-BUC_042', '43-BUC_043', '44-DF_001', '45-DF_002', '46-DF_003', '47-DF_004', '48-DF_005', '49-DF_006', '50-DF_007', '51-DF_008', '52-DF_009', '53-DF_010', '54-DF_011', '55-DF_011b', '56-DF_012', '57-DF_013', '58-DF_014', '59-DF_015', '60-DF_016', '61-DF_017', '62-DF_018', '63-DF_019', '64-DF_020', '65-GH_002', '66-GS_001', '67-RC_001', '68-RC_001b', '69-RC_002', '70-RC_003', '71-RC_004', '72-RC_005', '73-RC_006', '74-RC_007', '75-RC_008', '76-RC_008b', '77-RC_009', '78-RC_010', '79-RC_011', '80-RC_012', '81-RC_013', '82-RC_014', '83-RC_015', '84-RC_016', '85-RC_017', '86-RD_001', '87-RDe_001', '88-ReDe_001', '89-ReDe_002', '90-ReM_001', '91-ReM_002', '92-RM_001', '93-RM_001', '94-RM_002', '95-RM_003', '96-RM_004', '97-RR_001', '98-RRe_001', '99-SUM_001', '100-UC_001', '101-UC_001a', '102-UC_001b', '103-UC_002', '104-UC_003', '105-UC_004', '106-UC_004b', '107-UC_005', '108-UC_006', '109-UC_007', '110-UC_008', '111-UC_009', '112-UC_010', '113-UC_011', '114-UC_012', '115-UC_013', '116-UC_014', '117-UC_015', '118-UC_016', '119-UC_017', '120-UD_001', '121-UD_001b', '122-UDe_001', '123-UM_001', '124-UM_002', '125-UM_002b', '126-UM_003', '127-UM_004', '128-UP_001', '129-UP_002', '130-URe_001', '131-URe_001b', '132-Ure_002', '133-Ure_003', '134-Ure_004', '135-VD_001', '136-VD_002', '137-VD_003', '138-VD_004', '139-VD_005', '140-VD_006', '141-VD_007', '142-VD_008', '143-VD_009', '144-VD_010', '145-VD_011', '146-VD_012', '147-VD_013', '148-VD_014', '149-VD_015', '150-VD_016', '151-VD_017', '152-VD_018', '153-VD_019', '154-VD_020', '155-VD_020b', '156-VD_021', '157-VD_022', '158-VD_023', '159-VD_024', '160-VD_025', '161-VD_026', '162-VD_027', '163-VD_028', '164-VD_029', '165-VD_030']\n"
          ]
        }
      ]
    },
    {
      "cell_type": "code",
      "source": [
        "require['CombinedId'] = result\n",
        "#require"
      ],
      "metadata": {
        "id": "2lFzemYldR74"
      },
      "execution_count": 144,
      "outputs": []
    },
    {
      "cell_type": "code",
      "source": [
        "testcases.index = testcases.index + 1"
      ],
      "metadata": {
        "id": "w3aIwi-Od9Wg"
      },
      "execution_count": 115,
      "outputs": []
    },
    {
      "cell_type": "code",
      "source": [
        "#testcases.head(1)"
      ],
      "metadata": {
        "id": "YMrEXr2tnWUs"
      },
      "execution_count": 120,
      "outputs": []
    },
    {
      "cell_type": "code",
      "source": [
        "testcases = testcases.join(require['CombinedId'])\n",
        "testcases.head(1)\n"
      ],
      "metadata": {
        "colab": {
          "base_uri": "https://localhost:8080/",
          "height": 283
        },
        "id": "1PnQTfuLnij4",
        "outputId": "16b447d4-cc00-4d97-8e14-556e552e21a4"
      },
      "execution_count": 138,
      "outputs": [
        {
          "output_type": "execute_result",
          "data": {
            "text/plain": [
              "  Test ID Backlog Ref_ID                    Module          Process  \\\n",
              "1     NaN        BUC_001  User and Role Management  User Management   \n",
              "\n",
              "           Req. Item                                    Req Description  \\\n",
              "1  Download Template  The system should populate a sheet within the ...   \n",
              "\n",
              "  Date Updated                                    Test Scenarions Test Steps  \\\n",
              "1   2023-06-11  Verify that the user is able to download the b...        NaN   \n",
              "\n",
              "                                     Expected Result Actual Result  \\\n",
              "1  The system should populate a sheet within the ...           NaN   \n",
              "\n",
              "        Status Severity Ancillary Comments Refer to Screenshots Defect Status  \\\n",
              "1  Not Started      NaN                NaN                  NaN          Open   \n",
              "\n",
              "  Assigned To? Requirement Classification (Functional/Backend)  \\\n",
              "1          NaN                                             NaN   \n",
              "\n",
              "  Assignee Status2 CombinedId  \n",
              "1              NaN  1-BUC_001  "
            ],
            "text/html": [
              "\n",
              "\n",
              "  <div id=\"df-5e794098-6d7b-4edc-9d7e-d2cfea4fd48b\">\n",
              "    <div class=\"colab-df-container\">\n",
              "      <div>\n",
              "<style scoped>\n",
              "    .dataframe tbody tr th:only-of-type {\n",
              "        vertical-align: middle;\n",
              "    }\n",
              "\n",
              "    .dataframe tbody tr th {\n",
              "        vertical-align: top;\n",
              "    }\n",
              "\n",
              "    .dataframe thead th {\n",
              "        text-align: right;\n",
              "    }\n",
              "</style>\n",
              "<table border=\"1\" class=\"dataframe\">\n",
              "  <thead>\n",
              "    <tr style=\"text-align: right;\">\n",
              "      <th></th>\n",
              "      <th>Test ID</th>\n",
              "      <th>Backlog Ref_ID</th>\n",
              "      <th>Module</th>\n",
              "      <th>Process</th>\n",
              "      <th>Req. Item</th>\n",
              "      <th>Req Description</th>\n",
              "      <th>Date Updated</th>\n",
              "      <th>Test Scenarions</th>\n",
              "      <th>Test Steps</th>\n",
              "      <th>Expected Result</th>\n",
              "      <th>Actual Result</th>\n",
              "      <th>Status</th>\n",
              "      <th>Severity</th>\n",
              "      <th>Ancillary Comments</th>\n",
              "      <th>Refer to Screenshots</th>\n",
              "      <th>Defect Status</th>\n",
              "      <th>Assigned To?</th>\n",
              "      <th>Requirement Classification (Functional/Backend)</th>\n",
              "      <th>Assignee Status2</th>\n",
              "      <th>CombinedId</th>\n",
              "    </tr>\n",
              "  </thead>\n",
              "  <tbody>\n",
              "    <tr>\n",
              "      <th>1</th>\n",
              "      <td>NaN</td>\n",
              "      <td>BUC_001</td>\n",
              "      <td>User and Role Management</td>\n",
              "      <td>User Management</td>\n",
              "      <td>Download Template</td>\n",
              "      <td>The system should populate a sheet within the ...</td>\n",
              "      <td>2023-06-11</td>\n",
              "      <td>Verify that the user is able to download the b...</td>\n",
              "      <td>NaN</td>\n",
              "      <td>The system should populate a sheet within the ...</td>\n",
              "      <td>NaN</td>\n",
              "      <td>Not Started</td>\n",
              "      <td>NaN</td>\n",
              "      <td>NaN</td>\n",
              "      <td>NaN</td>\n",
              "      <td>Open</td>\n",
              "      <td>NaN</td>\n",
              "      <td>NaN</td>\n",
              "      <td>NaN</td>\n",
              "      <td>1-BUC_001</td>\n",
              "    </tr>\n",
              "  </tbody>\n",
              "</table>\n",
              "</div>\n",
              "      <button class=\"colab-df-convert\" onclick=\"convertToInteractive('df-5e794098-6d7b-4edc-9d7e-d2cfea4fd48b')\"\n",
              "              title=\"Convert this dataframe to an interactive table.\"\n",
              "              style=\"display:none;\">\n",
              "\n",
              "  <svg xmlns=\"http://www.w3.org/2000/svg\" height=\"24px\"viewBox=\"0 0 24 24\"\n",
              "       width=\"24px\">\n",
              "    <path d=\"M0 0h24v24H0V0z\" fill=\"none\"/>\n",
              "    <path d=\"M18.56 5.44l.94 2.06.94-2.06 2.06-.94-2.06-.94-.94-2.06-.94 2.06-2.06.94zm-11 1L8.5 8.5l.94-2.06 2.06-.94-2.06-.94L8.5 2.5l-.94 2.06-2.06.94zm10 10l.94 2.06.94-2.06 2.06-.94-2.06-.94-.94-2.06-.94 2.06-2.06.94z\"/><path d=\"M17.41 7.96l-1.37-1.37c-.4-.4-.92-.59-1.43-.59-.52 0-1.04.2-1.43.59L10.3 9.45l-7.72 7.72c-.78.78-.78 2.05 0 2.83L4 21.41c.39.39.9.59 1.41.59.51 0 1.02-.2 1.41-.59l7.78-7.78 2.81-2.81c.8-.78.8-2.07 0-2.86zM5.41 20L4 18.59l7.72-7.72 1.47 1.35L5.41 20z\"/>\n",
              "  </svg>\n",
              "      </button>\n",
              "\n",
              "\n",
              "\n",
              "    <div id=\"df-b4255885-c6e5-4a1d-baa6-2493ec2b8e50\">\n",
              "      <button class=\"colab-df-quickchart\" onclick=\"quickchart('df-b4255885-c6e5-4a1d-baa6-2493ec2b8e50')\"\n",
              "              title=\"Suggest charts.\"\n",
              "              style=\"display:none;\">\n",
              "\n",
              "<svg xmlns=\"http://www.w3.org/2000/svg\" height=\"24px\"viewBox=\"0 0 24 24\"\n",
              "     width=\"24px\">\n",
              "    <g>\n",
              "        <path d=\"M19 3H5c-1.1 0-2 .9-2 2v14c0 1.1.9 2 2 2h14c1.1 0 2-.9 2-2V5c0-1.1-.9-2-2-2zM9 17H7v-7h2v7zm4 0h-2V7h2v10zm4 0h-2v-4h2v4z\"/>\n",
              "    </g>\n",
              "</svg>\n",
              "      </button>\n",
              "    </div>\n",
              "\n",
              "<style>\n",
              "  .colab-df-quickchart {\n",
              "    background-color: #E8F0FE;\n",
              "    border: none;\n",
              "    border-radius: 50%;\n",
              "    cursor: pointer;\n",
              "    display: none;\n",
              "    fill: #1967D2;\n",
              "    height: 32px;\n",
              "    padding: 0 0 0 0;\n",
              "    width: 32px;\n",
              "  }\n",
              "\n",
              "  .colab-df-quickchart:hover {\n",
              "    background-color: #E2EBFA;\n",
              "    box-shadow: 0px 1px 2px rgba(60, 64, 67, 0.3), 0px 1px 3px 1px rgba(60, 64, 67, 0.15);\n",
              "    fill: #174EA6;\n",
              "  }\n",
              "\n",
              "  [theme=dark] .colab-df-quickchart {\n",
              "    background-color: #3B4455;\n",
              "    fill: #D2E3FC;\n",
              "  }\n",
              "\n",
              "  [theme=dark] .colab-df-quickchart:hover {\n",
              "    background-color: #434B5C;\n",
              "    box-shadow: 0px 1px 3px 1px rgba(0, 0, 0, 0.15);\n",
              "    filter: drop-shadow(0px 1px 2px rgba(0, 0, 0, 0.3));\n",
              "    fill: #FFFFFF;\n",
              "  }\n",
              "</style>\n",
              "\n",
              "    <script>\n",
              "      async function quickchart(key) {\n",
              "        const containerElement = document.querySelector('#' + key);\n",
              "        const charts = await google.colab.kernel.invokeFunction(\n",
              "            'suggestCharts', [key], {});\n",
              "      }\n",
              "    </script>\n",
              "\n",
              "      <script>\n",
              "\n",
              "function displayQuickchartButton(domScope) {\n",
              "  let quickchartButtonEl =\n",
              "    domScope.querySelector('#df-b4255885-c6e5-4a1d-baa6-2493ec2b8e50 button.colab-df-quickchart');\n",
              "  quickchartButtonEl.style.display =\n",
              "    google.colab.kernel.accessAllowed ? 'block' : 'none';\n",
              "}\n",
              "\n",
              "        displayQuickchartButton(document);\n",
              "      </script>\n",
              "      <style>\n",
              "    .colab-df-container {\n",
              "      display:flex;\n",
              "      flex-wrap:wrap;\n",
              "      gap: 12px;\n",
              "    }\n",
              "\n",
              "    .colab-df-convert {\n",
              "      background-color: #E8F0FE;\n",
              "      border: none;\n",
              "      border-radius: 50%;\n",
              "      cursor: pointer;\n",
              "      display: none;\n",
              "      fill: #1967D2;\n",
              "      height: 32px;\n",
              "      padding: 0 0 0 0;\n",
              "      width: 32px;\n",
              "    }\n",
              "\n",
              "    .colab-df-convert:hover {\n",
              "      background-color: #E2EBFA;\n",
              "      box-shadow: 0px 1px 2px rgba(60, 64, 67, 0.3), 0px 1px 3px 1px rgba(60, 64, 67, 0.15);\n",
              "      fill: #174EA6;\n",
              "    }\n",
              "\n",
              "    [theme=dark] .colab-df-convert {\n",
              "      background-color: #3B4455;\n",
              "      fill: #D2E3FC;\n",
              "    }\n",
              "\n",
              "    [theme=dark] .colab-df-convert:hover {\n",
              "      background-color: #434B5C;\n",
              "      box-shadow: 0px 1px 3px 1px rgba(0, 0, 0, 0.15);\n",
              "      filter: drop-shadow(0px 1px 2px rgba(0, 0, 0, 0.3));\n",
              "      fill: #FFFFFF;\n",
              "    }\n",
              "  </style>\n",
              "\n",
              "      <script>\n",
              "        const buttonEl =\n",
              "          document.querySelector('#df-5e794098-6d7b-4edc-9d7e-d2cfea4fd48b button.colab-df-convert');\n",
              "        buttonEl.style.display =\n",
              "          google.colab.kernel.accessAllowed ? 'block' : 'none';\n",
              "\n",
              "        async function convertToInteractive(key) {\n",
              "          const element = document.querySelector('#df-5e794098-6d7b-4edc-9d7e-d2cfea4fd48b');\n",
              "          const dataTable =\n",
              "            await google.colab.kernel.invokeFunction('convertToInteractive',\n",
              "                                                     [key], {});\n",
              "          if (!dataTable) return;\n",
              "\n",
              "          const docLinkHtml = 'Like what you see? Visit the ' +\n",
              "            '<a target=\"_blank\" href=https://colab.research.google.com/notebooks/data_table.ipynb>data table notebook</a>'\n",
              "            + ' to learn more about interactive tables.';\n",
              "          element.innerHTML = '';\n",
              "          dataTable['output_type'] = 'display_data';\n",
              "          await google.colab.output.renderOutput(dataTable, element);\n",
              "          const docLink = document.createElement('div');\n",
              "          docLink.innerHTML = docLinkHtml;\n",
              "          element.appendChild(docLink);\n",
              "        }\n",
              "      </script>\n",
              "    </div>\n",
              "  </div>\n"
            ]
          },
          "metadata": {},
          "execution_count": 138
        }
      ]
    },
    {
      "cell_type": "code",
      "source": [
        "#testcases = testcases.drop(columns='CombinedId')\n"
      ],
      "metadata": {
        "id": "0LaAyamNn_pt"
      },
      "execution_count": 137,
      "outputs": []
    },
    {
      "cell_type": "code",
      "source": [
        "testcases['CombinedId'][165]"
      ],
      "metadata": {
        "colab": {
          "base_uri": "https://localhost:8080/",
          "height": 35
        },
        "id": "UUKMbH3Wo8Ra",
        "outputId": "73f7b6dd-9ca7-4208-c57e-ac9e9f93badb"
      },
      "execution_count": 121,
      "outputs": [
        {
          "output_type": "execute_result",
          "data": {
            "text/plain": [
              "'165VD_030'"
            ],
            "application/vnd.google.colaboratory.intrinsic+json": {
              "type": "string"
            }
          },
          "metadata": {},
          "execution_count": 121
        }
      ]
    },
    {
      "cell_type": "code",
      "source": [
        "testcases['id']= testcases['CombinedId'].str.split('-').str[0]"
      ],
      "metadata": {
        "id": "9TT8dWRYpKqV"
      },
      "execution_count": 139,
      "outputs": []
    },
    {
      "cell_type": "code",
      "source": [
        "#testcases.head(10)\n",
        "testcases['Backlog Ref_ID'][1:10]"
      ],
      "metadata": {
        "colab": {
          "base_uri": "https://localhost:8080/"
        },
        "id": "X0rNMhbhuEI1",
        "outputId": "f2dd72e2-9c31-44a0-8064-3aa6fd0fefec"
      },
      "execution_count": 151,
      "outputs": [
        {
          "output_type": "execute_result",
          "data": {
            "text/plain": [
              "2                BUC_002\n",
              "3                BUC_003\n",
              "4                BUC_004\n",
              "5                BUC_005\n",
              "6                BUC_006\n",
              "7                BUC_007\n",
              "8     BUC_008\\nBUC_009\\n\n",
              "9                BUC_010\n",
              "10               BUC_011\n",
              "Name: Backlog Ref_ID, dtype: object"
            ]
          },
          "metadata": {},
          "execution_count": 151
        }
      ]
    },
    {
      "cell_type": "code",
      "source": [
        "# for i in testcases['id']:\n",
        "#   print(i)"
      ],
      "metadata": {
        "id": "il_P0YgkwCZU"
      },
      "execution_count": 146,
      "outputs": []
    },
    {
      "cell_type": "code",
      "source": [
        "#testcases.to_excel('testcasesnewfile.xlsx', index=False)"
      ],
      "metadata": {
        "id": "Gv9M-JTY66L5"
      },
      "execution_count": 147,
      "outputs": []
    }
  ]
}